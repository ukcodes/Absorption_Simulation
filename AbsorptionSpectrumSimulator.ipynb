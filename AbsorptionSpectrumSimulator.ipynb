{
 "cells": [
  {
   "cell_type": "markdown",
   "metadata": {},
   "source": [
    "# Absorption Spectrum Simulator\n",
    "\n",
    "### Utsav KC\n",
    "\n",
    "This code generates the absorption spectrum of a mixture of methane and water. Methane is an important molecule in the Earth as well as the Martian atmosphere. An increase in the concentration of methane in the Earth's atmosphere can accelerate the global warming as methane can even absorb some of the infrared bands for which the water and carbon dioxide are transparent. In the Martian atmosphere, the presence of methane may indicate the existence of life. The simulation of an absorption spectrum is required to interpret the absorption signal.\n",
    "<br>\n",
    "<font color = red>\n",
    "    Suggestions for improvements in the future versions are stated in red.\n",
    "    </font>"
   ]
  },
  {
   "cell_type": "code",
   "execution_count": 1,
   "metadata": {},
   "outputs": [],
   "source": [
    "totalP=1\n",
    "#total pressure on the planet in units of atm\n",
    "\n",
    "AmbTemp=15+273\n",
    "#temperature of the system in Kelvin\n",
    "\n",
    "path=100\n",
    "#total path length in cm\n",
    "\n",
    "xmeth=1800E-9\n",
    "#mole fraction of methane 1800 ppb\n",
    "\n",
    "xwat=0.025 \n",
    "#mole fraction of water"
   ]
  },
  {
   "cell_type": "code",
   "execution_count": 2,
   "metadata": {},
   "outputs": [],
   "source": [
    "import numpy as np\n",
    "from scipy.special import wofz\n",
    "#wofz is used to compute Voigt function\n",
    "\n",
    "import matplotlib.pyplot as mpl\n",
    "\n",
    "waveaxis=np.arange(3066,3068,0.01)\n",
    "#wavelength in units of cm-1\n",
    "\n",
    "dimx=len(waveaxis) #number of wavelength values"
   ]
  },
  {
   "cell_type": "markdown",
   "metadata": {},
   "source": [
    "<font color = red>\n",
    "    User input to be collected in a GUI in the next version.\n",
    "    <br>\n",
    "    Additional input options to be included in the next version.\n",
    "    </font>"
   ]
  },
  {
   "cell_type": "code",
   "execution_count": 3,
   "metadata": {},
   "outputs": [],
   "source": [
    "H=6.62606957E-34\n",
    "#Plack's constant in Js\n",
    "\n",
    "C=2.99792458E10\n",
    "#speed of light in cms-1\n",
    "\n",
    "HC=H*C \n",
    "#value of hc in J.cm\n",
    "\n",
    "K=1.3806488E-23 \n",
    "#value of Boltzmann constant in JK^-1\n",
    "\n",
    "hck=HC/K \n",
    "#this factor appears many times in the expression for line strength\n",
    "\n",
    "fac=2.4797E19 \n",
    "#factor to convert from S* to S\n",
    "\n",
    "TNOT=296 \n",
    "#Reference temperature"
   ]
  },
  {
   "cell_type": "code",
   "execution_count": 4,
   "metadata": {},
   "outputs": [],
   "source": [
    "MMETH=16.04\n",
    "#molar mass of methane (g/mol)\n",
    "\n",
    "MWAT=18.010565\n",
    "#molar mass of water (g/mol)"
   ]
  },
  {
   "cell_type": "code",
   "execution_count": 5,
   "metadata": {},
   "outputs": [],
   "source": [
    "QTNOT=590.4780\n",
    "#partition function of methane at 296 K\n",
    "\n",
    "QTNOTW=174.581\n",
    "#partition function of water at 296 K"
   ]
  },
  {
   "cell_type": "code",
   "execution_count": 6,
   "metadata": {},
   "outputs": [],
   "source": [
    "def partf(filename,temp):\n",
    "    qdata = np.genfromtxt(filename)\n",
    "    return qdata[temp-1,1]\n",
    "\n",
    "#function to read the file containing the values of partition functions and return the partition function at given temp"
   ]
  },
  {
   "cell_type": "code",
   "execution_count": 7,
   "metadata": {},
   "outputs": [],
   "source": [
    "qt = partf('Partfun_12CH4.txt',AmbTemp)\n",
    "#partition function of methane at the given temperature\n",
    "\n",
    "qtw = partf('Partfun_H16OH.txt',AmbTemp)\n",
    "#partition function of water at the given temperature\n"
   ]
  },
  {
   "cell_type": "markdown",
   "metadata": {},
   "source": [
    "## Partition Functions\n",
    "The partition functions are dowloaded from the following source: https://hitran.iao.ru/partfun "
   ]
  },
  {
   "cell_type": "code",
   "execution_count": 8,
   "metadata": {},
   "outputs": [
    {
     "name": "stdout",
     "output_type": "stream",
     "text": [
      "reading CH4 molecular parameters...\n"
     ]
    }
   ],
   "source": [
    "#Extraction of methane parameters\n",
    "#obtain the molecular parameters of methane taken from the HITRAN database\n",
    "print('reading CH4 molecular parameters...')\n",
    "parmdata=np.genfromtxt('Mars-parmsHIT12.txt') #partmsHIT12.txt contains the new version of methane data\n",
    "delpnu=totalP*1.0*parmdata[:,9] #pressure shift\n",
    "vacnu=parmdata[:,2]\n",
    "CF=delpnu+vacnu\n",
    "#vector containing all the center frequency i.e transition wavelengths\n",
    "#the first term accounts for line shift because of interactions with air\n",
    "#contribution to line shift from water and methane have been neglected\n",
    "sstarcorrection=(1-2*delpnu/vacnu)*(1-np.exp(-hck*vacnu/AmbTemp)*(1-hck*delpnu/AmbTemp))/(1-np.exp(-hck*vacnu/AmbTemp))\n",
    "SASTRIX=parmdata[:,3]*sstarcorrection#vector containing all the S*\n",
    "LOWSTATE=parmdata[:,7]#vector contaning all the lower state energy\n",
    "colwmeth=parmdata[:,5]*1*totalP#collisional air-broadening coefficients\n",
    "temexpmeth=parmdata[:,8]#exponent of temperature dependence"
   ]
  },
  {
   "cell_type": "markdown",
   "metadata": {},
   "source": [
    "## HITRAN output\n",
    "<font color = blue>\n",
    "\n",
    "The HITRAN output was saved as an excel file to separate the columns. The excel sheet was again saved as a text file. The column wise description of the output data from HITRAN is available here https://youtu.be/1FLHRhmTx-w \n",
    "\n",
    "</font>\n",
    "\n",
    "<br>\n",
    "\n",
    "\n",
    "<font color = red>\n",
    "    \n",
    "In the next version, this must be improved by writing the code to read the required parameters directly from the HITRAN output file. \n",
    "\n",
    "<br>\n",
    "Another improvement would be to write a function which will extract the relevant molecular parameters for chosen list of molecules.\n",
    "\n",
    "</font>\n"
   ]
  },
  {
   "cell_type": "markdown",
   "metadata": {},
   "source": [
    "## $S^{*}$\n",
    "\n",
    "The $S^{*}$ is the spectral line intensity between two rovibronic states in units of $cm^{-1}/(molecule.cm^{-2})$ as listed in the HITRAN database. It is listed in column 3 of the file containing molecular data. It is given by\n",
    "$$ S_{ij}^{*} = I_{a}\\frac{A_{ij}}{8\\pi c\\nu^{2}_{ij}}\\frac{g'e^{-c_{2}E\"/T(1-e^{-c_{2}\\nu_{ij}/T})}}{Q(T)} $$\n",
    "Ref: https://hitran.org/docs/definitions-and-units/ \n",
    "\n",
    "This equation was adjusted for the line shift by substituting $\\nu_{ij}$ by $\\nu_{ij} + \\Delta\\nu$. Assuming that $\\Delta\\nu/\\nu_{ij} << 1$, the $S_{ij}^{*}$ given in HITRAN is multiplied by a correction factor which is\n",
    "$$ \\left(1-\\frac{2\\Delta\\nu}{\\nu_{ij}}\\right)\\left[\\frac{1-e^{-c_{2}\\nu_{ij}/T}(1-c_{2}\\Delta\\nu/T)}{1-e^{-c_{2}\\nu_{ij}/T}}\\right]$$"
   ]
  },
  {
   "cell_type": "markdown",
   "metadata": {},
   "source": [
    "## Pressure Shift\n",
    "<font color = blue>\n",
    "Air induced pressure shifts are listed in column 9 of the molecular data file. Their values are in units of $cm^{-1}/atm$ (at $T_{ref} = 296 K$) so they are multipled by the total pressure. The pressure shift is entirely attributed to air, which is not accurate. A greater accuracy in pressure shift is obtained using\n",
    "$$ \\Delta\\nu = P\\sum_{a}X_{a}\\delta_{A}(T_{ref}/T)^{M} $$\n",
    "Here, $P$ is the total pressure, $a$ is the molecular species, $X_{a}$ is the mole fraction of $a$, $\\delta_{a}$ is the shift induced by species $a$, and $T$ is the temperature of the sample. The temperature exponent, $M$ for the pressure shifts are not provided in the molecular data files by HITRAN. \n",
    "</font>\n",
    "\n",
    "<br>\n",
    "<br>\n",
    "\n",
    "<font color = red>\n",
    "This may be improved in the next version of the code if the data is available. The shift induced by a given species should be weighted by their partial pressures.\n",
    "</font>\n",
    "\n"
   ]
  },
  {
   "cell_type": "code",
   "execution_count": 9,
   "metadata": {},
   "outputs": [
    {
     "name": "stdout",
     "output_type": "stream",
     "text": [
      "reading H2O molecular parameters...\n"
     ]
    }
   ],
   "source": [
    "#Extraction of water parameters\n",
    "#obtain the H2O data\n",
    "print('reading H2O molecular parameters...')\n",
    "waterdata=np.genfromtxt('H2Oparms.txt')#H2Oparms.txt contains molecular parameters from HITRAN\n",
    "wdelpnu=totalP*1.0*waterdata[:,9]#pressure shift\n",
    "#wdelpnu=0\n",
    "wvacnu=waterdata[:,2]#vacuum wavenumber\n",
    "CFW=wdelpnu+wvacnu\n",
    "#vector containing all the center frequency i.e transition wavelengths\n",
    "#the first term accounts for line shift because of interactions with air\n",
    "#contribution to line shift from water and methane have been neglected\n",
    "\n",
    "wstcorr=(1-2*wdelpnu/wvacnu)*(1-np.exp(-hck*wvacnu/AmbTemp)*(1-hck*wdelpnu/AmbTemp))/(1-np.exp(-hck*wvacnu/AmbTemp))\n",
    "SASTRIXW=waterdata[:,3]*wstcorr#values of S*\n",
    "LOWSTATEW=waterdata[:,7]#lower state energy\n",
    "colwwat=waterdata[:,5]*totalP#collisional air-broadening coefficients\n",
    "temexpwat=waterdata[:,8]#exponent of temperature dependence"
   ]
  },
  {
   "cell_type": "code",
   "execution_count": 10,
   "metadata": {},
   "outputs": [],
   "source": [
    "def intense(stars,partinot,parti,lower,cent):\n",
    "#vector containing all the line strengths at T calculated from s*\n",
    "    return fac*(TNOT/AmbTemp)*stars*(partinot/parti)*np.exp(-hck*lower*((1.0/AmbTemp)-(1.0/TNOT)))\\\n",
    "            *(1-np.exp(-hck*cent/AmbTemp))/(1-np.exp(-hck*cent/TNOT))\n"
   ]
  },
  {
   "cell_type": "markdown",
   "metadata": {},
   "source": [
    "## Line Strength or Spectral Line Intensity\n",
    "\n",
    "The equation for line strength is given by\n",
    "$$ S_{i} \\left[cm^{-2}atm^{-1}\\right] = S_{i}(T_{0})\\frac{Q(T_{0})}{Q(T)}\\left(\\frac{T_{0}}{T}\\right)exp\\left[-\\frac{hcE_{i}^{\"}}{k}\\left(\\frac{1}{T}-\\frac{1}{T_{0}}\\right)\\right]\\times \\left[1-exp\\left(\\frac{-hc\\nu_{0,i}}{kT}\\right)\\right]\\left[1-exp\\left(\\frac{-hc\\nu_{0,i}}{kT_{0}}\\right)\\right]^{-1}$$\n",
    "\n",
    "Since, \n",
    "\n",
    "$$ S(T_{0}) = S^{*}(T_0) \\times 2.4797 \\times 10^{19} $$\n",
    "\n",
    "We get the following expression for the line strength which also accounts for the shift in the line center.\n",
    "\n",
    "$$ S_{i} \\left[cm^{-2}atm^{-1}\\right] = S^{*}(T_0) \\times 2.4797 \\times 10^{19} \\times \\frac{Q(T_{0})}{Q(T)}\\left(\\frac{T_{0}}{T}\\right)exp\\left[-\\frac{hcE_{i}^{\"}}{k}\\left(\\frac{1}{T}-\\frac{1}{T_{0}}\\right)\\right]\\times \\left[1-exp\\left(\\frac{-hc(\\nu_{0,i}+\\Delta\\nu)}{kT}\\right)\\right]\\left[1-exp\\left(\\frac{-hc(\\nu_{0,i}+\\Delta\\nu)}{kT_{0}}\\right)\\right]^{-1}$$\n"
   ]
  },
  {
   "cell_type": "code",
   "execution_count": 11,
   "metadata": {},
   "outputs": [],
   "source": [
    "#line strengths of methane\n",
    "tns=intense(SASTRIX,QTNOT,qt,LOWSTATE,CF)\n",
    "#line strengths of water\n",
    "tnsw=intense(SASTRIXW,QTNOTW,qtw,LOWSTATEW,CFW)"
   ]
  },
  {
   "cell_type": "code",
   "execution_count": 12,
   "metadata": {},
   "outputs": [],
   "source": [
    "def V(xx, alpha, gamma):\n",
    "    \"\"\"\n",
    "    Return the Voigt line shape at xx with Lorentzian component HWHM gamma\n",
    "    and Gaussian component HWHM alpha.\n",
    "\n",
    "    \"\"\"\n",
    "    sigma = alpha/np.sqrt(2 * np.log(2)) #standard deviation of a normal distribution function\n",
    "    zz = (xx + 1j*gamma)/(np.sqrt(2)*sigma) #argument of the Fadeeva function (wofz)\n",
    "    return np.real(wofz(zz))/(sigma*np.sqrt(2*np.pi))   "
   ]
  },
  {
   "cell_type": "markdown",
   "metadata": {},
   "source": [
    "## Voigt and Fadeeva Function (wofz)\n",
    "\n",
    "The function for the Voigt profile is described in https://scipy.github.io/devdocs/generated/scipy.special.voigt_profile.html\n",
    "\n",
    "<font color = red>\n",
    " In the next version of the code, use the voigt_profile function\n",
    " </font>\n",
    " <br>\n",
    " The Voigt function is related to the Fadeeva function as follows\n",
    " $$V(x;\\sigma, \\gamma) = \\frac{Re\\left[w\\left(\\frac{x+i\\gamma}{\\sqrt{2}\\sigma}\\right)\\right]}{\\sigma\\sqrt{2\\pi}}$$\n",
    " Here $\\sigma$ is the standard deviation of the normal distribution. The normal distribution of $x$ is given by\n",
    " $$ f(x) = \\frac{1}{\\sigma 2\\pi}e^{-\\frac{1}{2}\\left(\\frac{x-\\mu}{\\sigma}\\right)^{2}}$$\n",
    " The HWHM is $\\sigma\\sqrt{2\\ln2}$ so the HWHM should be divided by $\\sqrt{2\\ln2}$ to obtain the standard deviation, $\\sigma$.\n",
    " "
   ]
  },
  {
   "cell_type": "code",
   "execution_count": 13,
   "metadata": {},
   "outputs": [],
   "source": [
    "\"\"\"Calculation of the line shape function from each center wavelength\"\"\"\n",
    "#the following loop calculates the line shape function at each center frequency\n",
    "\n",
    "def shapecont(cenfreq,molmass,width,expo):\n",
    "    p=0\n",
    "    lsvalue=np.zeros((dimx,len(cenfreq)))\n",
    "    for center in cenfreq:\n",
    "        dopwid=0.5*center*(7.1623e-7)*np.sqrt(AmbTemp/molmass)#doppler half width\n",
    "        tex=expo[p]\n",
    "        lorwid=0.5*totalP*2*width[p]*(TNOT/AmbTemp)**tex#lorentz half width\n",
    "        wav=waveaxis-center\n",
    "        lsvalue[:,p]=V(wav,dopwid,lorwid)\n",
    "        p=p+1\n",
    "        \n",
    "    return lsvalue"
   ]
  },
  {
   "cell_type": "markdown",
   "metadata": {},
   "source": [
    "## Line Broadening\n",
    "The Doppler FWHM is given by \n",
    "$$ \\Delta\\nu_{D} = \\nu_{0}\\left(\\frac{8kT\\ln2}{mc^{2}}\\right)^\\frac{1}{2}$$\n",
    "or\n",
    "$$ \\Delta\\nu_{D} = \\nu_{0}\\left(7.1623 \\times 10^{-7}\\right)\\left(\\frac{T}{M}\\right)^{\\frac{1}{2}}$$\n",
    "\n",
    "Here $M$ is the molar mass [g/mol]. \n",
    "<br>\n",
    "<br>\n",
    "The collisional FWHM for species $B$ because of species $A$'s is given by \n",
    "$$\\Delta\\nu_{C} = P\\sum_{A}X_{A}2\\gamma_{B-A}$$\n",
    "<br>\n",
    "Here,\n",
    "$$\\gamma(T) = \\gamma\\left(T_{0}\\right)\\left(\\frac{T_{0}}{T}\\right)^{N}$$\n",
    "\n",
    "<font color = red>\n",
    "In the current version of the code, only the collisional broadening by air is accounted. In the next version, the self-broadening and that by other non-air species may also be included.\n",
    " </font>"
   ]
  },
  {
   "cell_type": "code",
   "execution_count": 14,
   "metadata": {},
   "outputs": [
    {
     "name": "stdout",
     "output_type": "stream",
     "text": [
      "line shape calculation in progress...\n",
      "end of line shape calculation.\n"
     ]
    }
   ],
   "source": [
    "print('line shape calculation in progress...')\n",
    "phivmeth=shapecont(CF,MMETH,colwmeth,temexpmeth)#lineshape from each center frequency in methane    \n",
    "phivwat=shapecont(CFW,MWAT,colwwat,temexpwat)#lineshape from each center frequency in water\n",
    "print('end of line shape calculation.')  "
   ]
  },
  {
   "cell_type": "code",
   "execution_count": 15,
   "metadata": {},
   "outputs": [],
   "source": [
    "#calculation of absorbance for a molecular species given the line intensity, linshape and X\n",
    "def absorbance(transtr,lsfunc,nmol):\n",
    "    linabs=np.zeros((dimx,len(transtr)))\n",
    "    p=0\n",
    "    for st in transtr:\n",
    "        linabs[:,p]=st*lsfunc[:,p]*nmol*totalP*path\n",
    "        p=p+1\n",
    "    return linabs.sum(axis=1)"
   ]
  },
  {
   "cell_type": "code",
   "execution_count": 16,
   "metadata": {},
   "outputs": [],
   "source": [
    "#calculation of total absorbance from water and methane\n",
    "def absprof(xaxis,molm,molw):\n",
    "    return absorbance(tns,phivmeth,molm) + absorbance(tnsw,phivwat,molw)"
   ]
  },
  {
   "cell_type": "code",
   "execution_count": 17,
   "metadata": {},
   "outputs": [
    {
     "name": "stdout",
     "output_type": "stream",
     "text": [
      "data figure in progress...\n",
      "Writing the files with results!\n"
     ]
    },
    {
     "data": {
      "image/png": "[encoded data removed]",
      "text/plain": [
       "<Figure size 432x288 with 1 Axes>"
      ]
     },
     "metadata": {
      "needs_background": "light"
     },
     "output_type": "display_data"
    }
   ],
   "source": [
    "# Plot the result\n",
    "fig = mpl.figure()\n",
    "ax = fig.add_subplot(111)\n",
    "\n",
    "print('data figure in progress...')\n",
    "ym=absprof(waveaxis,xmeth,xwat)\n",
    "ax.plot(waveaxis, ym, c='r', label='Calculated Spectrum')\n",
    "ax.legend()\n",
    "fig.savefig('Calculated Spectrum.png')\n",
    "\n",
    "print('Writing the files with results!')"
   ]
  },
  {
   "cell_type": "code",
   "execution_count": null,
   "metadata": {},
   "outputs": [],
   "source": []
  }
 ],
 "metadata": {
  "kernelspec": {
   "display_name": "Python 3",
   "language": "python",
   "name": "python3"
  },
  "language_info": {
   "codemirror_mode": {
    "name": "ipython",
    "version": 3
   },
   "file_extension": ".py",
   "mimetype": "text/x-python",
   "name": "python",
   "nbconvert_exporter": "python",
   "pygments_lexer": "ipython3",
   "version": "3.7.4"
  }
 },
 "nbformat": 4,
 "nbformat_minor": 2
}
